{
  "cells": [
    {
      "attachments": {},
      "cell_type": "markdown",
      "metadata": {
        "id": "89ccdb85"
      },
      "source": [
        "## <center>Performance evaluation of Terapixel rendering in Cloud (Super) computing</center>\n",
        "<center>Submittive Assignment</center>\n",
        "<br>\n",
        "<center><em>Vishal Pawar(220586610)</em></center>"
      ]
    },
    {
      "attachments": {},
      "cell_type": "markdown",
      "metadata": {
        "id": "k2wT2A4fHVFm"
      },
      "source": [
        "###Installing Packages and Loading Neccessary Libraries"
      ]
    },
    {
      "cell_type": "code",
      "execution_count": null,
      "metadata": {
        "colab": {
          "base_uri": "https://localhost:8080/"
        },
        "id": "zOp2c-DPf8C8",
        "outputId": "804160f2-6085-4af3-d9b6-2ce5b5ab01a5"
      },
      "outputs": [
        {
          "name": "stdout",
          "output_type": "stream",
          "text": [
            "Looking in indexes: https://pypi.org/simple, https://us-python.pkg.dev/colab-wheels/public/simple/\n",
            "Requirement already satisfied: pandasql in /usr/local/lib/python3.10/dist-packages (0.7.3)\n",
            "Requirement already satisfied: numpy in /usr/local/lib/python3.10/dist-packages (from pandasql) (1.24.3)\n",
            "Requirement already satisfied: pandas in /usr/local/lib/python3.10/dist-packages (from pandasql) (1.5.3)\n",
            "Requirement already satisfied: sqlalchemy in /usr/local/lib/python3.10/dist-packages (from pandasql) (2.0.10)\n",
            "Requirement already satisfied: python-dateutil>=2.8.1 in /usr/local/lib/python3.10/dist-packages (from pandas->pandasql) (2.8.2)\n",
            "Requirement already satisfied: pytz>=2020.1 in /usr/local/lib/python3.10/dist-packages (from pandas->pandasql) (2022.7.1)\n",
            "Requirement already satisfied: typing-extensions>=4.2.0 in /usr/local/lib/python3.10/dist-packages (from sqlalchemy->pandasql) (4.6.2)\n",
            "Requirement already satisfied: greenlet!=0.4.17 in /usr/local/lib/python3.10/dist-packages (from sqlalchemy->pandasql) (2.0.2)\n",
            "Requirement already satisfied: six>=1.5 in /usr/local/lib/python3.10/dist-packages (from python-dateutil>=2.8.1->pandas->pandasql) (1.16.0)\n"
          ]
        }
      ],
      "source": [
        "!pip install pandasql"
      ]
    },
    {
      "cell_type": "code",
      "execution_count": null,
      "metadata": {
        "id": "W0V0AkydlZrQ"
      },
      "outputs": [],
      "source": [
        "import pandas as pd\n",
        "import numpy as np\n",
        "import matplotlib.pyplot as plt\n",
        "import seaborn as sns\n",
        "import datetime\n",
        "from matplotlib import pyplot\n",
        "from pandas import Series\n",
        "import statistics\n",
        "from datetime import datetime as dt, date\n",
        "from dateutil import parser\n",
        "from pandasql import sqldf"
      ]
    },
    {
      "cell_type": "code",
      "execution_count": null,
      "metadata": {
        "colab": {
          "base_uri": "https://localhost:8080/"
        },
        "id": "9o6jQb5RgJm6",
        "outputId": "fa7ade13-a96a-4b7d-bd61-522e81448d96"
      },
      "outputs": [
        {
          "name": "stdout",
          "output_type": "stream",
          "text": [
            "Mounted at /content/gdrive\n"
          ]
        }
      ],
      "source": [
        "from google.colab import drive\n",
        "drive.mount('/content/gdrive')"
      ]
    },
    {
      "cell_type": "code",
      "execution_count": null,
      "metadata": {},
      "outputs": [],
      "source": [
        "###Loading and displaying dataset"
      ]
    },
    {
      "cell_type": "code",
      "execution_count": null,
      "metadata": {},
      "outputs": [],
      "source": [
        "application_file = pd.read_csv('/content/gdrive/MyDrive/Cloud Assignment/application-checkpoints.csv')\n",
        "task_xy = pd.read_csv('/content/gdrive/MyDrive/Cloud Assignment/task-x-y.csv')\n",
        "gpu_file = pd.read_csv('/content/gdrive/MyDrive/Cloud Assignment/gpu.csv')"
      ]
    },
    {
      "cell_type": "code",
      "execution_count": null,
      "metadata": {},
      "outputs": [
        {
          "data": {
            "text/html": [
              "\n",
              "  <div id=\"df-ee8abf5b-cb11-4e07-a88a-ae35f3846b17\">\n",
              "    <div class=\"colab-df-container\">\n",
              "      <div>\n",
              "<style scoped>\n",
              "    .dataframe tbody tr th:only-of-type {\n",
              "        vertical-align: middle;\n",
              "    }\n",
              "\n",
              "    .dataframe tbody tr th {\n",
              "        vertical-align: top;\n",
              "    }\n",
              "\n",
              "    .dataframe thead th {\n",
              "        text-align: right;\n",
              "    }\n",
              "</style>\n",
              "<table border=\"1\" class=\"dataframe\">\n",
              "  <thead>\n",
              "    <tr style=\"text-align: right;\">\n",
              "      <th></th>\n",
              "      <th>timestamp</th>\n",
              "      <th>hostname</th>\n",
              "      <th>eventName</th>\n",
              "      <th>eventType</th>\n",
              "      <th>jobId</th>\n",
              "      <th>taskId</th>\n",
              "    </tr>\n",
              "  </thead>\n",
              "  <tbody>\n",
              "    <tr>\n",
              "      <th>0</th>\n",
              "      <td>2018-11-08T07:41:55.921Z</td>\n",
              "      <td>0d56a730076643d585f77e00d2d8521a00000N</td>\n",
              "      <td>Tiling</td>\n",
              "      <td>STOP</td>\n",
              "      <td>1024-lvl12-7e026be3-5fd0-48ee-b7d1-abd61f747705</td>\n",
              "      <td>b47f0263-ba1c-48a7-8d29-4bf021b72043</td>\n",
              "    </tr>\n",
              "    <tr>\n",
              "      <th>1</th>\n",
              "      <td>2018-11-08T07:42:29.842Z</td>\n",
              "      <td>0d56a730076643d585f77e00d2d8521a00000N</td>\n",
              "      <td>Saving Config</td>\n",
              "      <td>START</td>\n",
              "      <td>1024-lvl12-7e026be3-5fd0-48ee-b7d1-abd61f747705</td>\n",
              "      <td>20fb9fcf-a927-4a4b-a64c-70258b66b42d</td>\n",
              "    </tr>\n",
              "    <tr>\n",
              "      <th>2</th>\n",
              "      <td>2018-11-08T07:42:29.845Z</td>\n",
              "      <td>0d56a730076643d585f77e00d2d8521a00000N</td>\n",
              "      <td>Saving Config</td>\n",
              "      <td>STOP</td>\n",
              "      <td>1024-lvl12-7e026be3-5fd0-48ee-b7d1-abd61f747705</td>\n",
              "      <td>20fb9fcf-a927-4a4b-a64c-70258b66b42d</td>\n",
              "    </tr>\n",
              "    <tr>\n",
              "      <th>3</th>\n",
              "      <td>2018-11-08T07:42:29.845Z</td>\n",
              "      <td>0d56a730076643d585f77e00d2d8521a00000N</td>\n",
              "      <td>Render</td>\n",
              "      <td>START</td>\n",
              "      <td>1024-lvl12-7e026be3-5fd0-48ee-b7d1-abd61f747705</td>\n",
              "      <td>20fb9fcf-a927-4a4b-a64c-70258b66b42d</td>\n",
              "    </tr>\n",
              "    <tr>\n",
              "      <th>4</th>\n",
              "      <td>2018-11-08T07:43:13.957Z</td>\n",
              "      <td>0d56a730076643d585f77e00d2d8521a00000N</td>\n",
              "      <td>TotalRender</td>\n",
              "      <td>STOP</td>\n",
              "      <td>1024-lvl12-7e026be3-5fd0-48ee-b7d1-abd61f747705</td>\n",
              "      <td>20fb9fcf-a927-4a4b-a64c-70258b66b42d</td>\n",
              "    </tr>\n",
              "  </tbody>\n",
              "</table>\n",
              "</div>\n",
              "      <button class=\"colab-df-convert\" onclick=\"convertToInteractive('df-ee8abf5b-cb11-4e07-a88a-ae35f3846b17')\"\n",
              "              title=\"Convert this dataframe to an interactive table.\"\n",
              "              style=\"display:none;\">\n",
              "        \n",
              "  <svg xmlns=\"http://www.w3.org/2000/svg\" height=\"24px\"viewBox=\"0 0 24 24\"\n",
              "       width=\"24px\">\n",
              "    <path d=\"M0 0h24v24H0V0z\" fill=\"none\"/>\n",
              "    <path d=\"M18.56 5.44l.94 2.06.94-2.06 2.06-.94-2.06-.94-.94-2.06-.94 2.06-2.06.94zm-11 1L8.5 8.5l.94-2.06 2.06-.94-2.06-.94L8.5 2.5l-.94 2.06-2.06.94zm10 10l.94 2.06.94-2.06 2.06-.94-2.06-.94-.94-2.06-.94 2.06-2.06.94z\"/><path d=\"M17.41 7.96l-1.37-1.37c-.4-.4-.92-.59-1.43-.59-.52 0-1.04.2-1.43.59L10.3 9.45l-7.72 7.72c-.78.78-.78 2.05 0 2.83L4 21.41c.39.39.9.59 1.41.59.51 0 1.02-.2 1.41-.59l7.78-7.78 2.81-2.81c.8-.78.8-2.07 0-2.86zM5.41 20L4 18.59l7.72-7.72 1.47 1.35L5.41 20z\"/>\n",
              "  </svg>\n",
              "      </button>\n",
              "      \n",
              "  <style>\n",
              "    .colab-df-container {\n",
              "      display:flex;\n",
              "      flex-wrap:wrap;\n",
              "      gap: 12px;\n",
              "    }\n",
              "\n",
              "    .colab-df-convert {\n",
              "      background-color: #E8F0FE;\n",
              "      border: none;\n",
              "      border-radius: 50%;\n",
              "      cursor: pointer;\n",
              "      display: none;\n",
              "      fill: #1967D2;\n",
              "      height: 32px;\n",
              "      padding: 0 0 0 0;\n",
              "      width: 32px;\n",
              "    }\n",
              "\n",
              "    .colab-df-convert:hover {\n",
              "      background-color: #E2EBFA;\n",
              "      box-shadow: 0px 1px 2px rgba(60, 64, 67, 0.3), 0px 1px 3px 1px rgba(60, 64, 67, 0.15);\n",
              "      fill: #174EA6;\n",
              "    }\n",
              "\n",
              "    [theme=dark] .colab-df-convert {\n",
              "      background-color: #3B4455;\n",
              "      fill: #D2E3FC;\n",
              "    }\n",
              "\n",
              "    [theme=dark] .colab-df-convert:hover {\n",
              "      background-color: #434B5C;\n",
              "      box-shadow: 0px 1px 3px 1px rgba(0, 0, 0, 0.15);\n",
              "      filter: drop-shadow(0px 1px 2px rgba(0, 0, 0, 0.3));\n",
              "      fill: #FFFFFF;\n",
              "    }\n",
              "  </style>\n",
              "\n",
              "      <script>\n",
              "        const buttonEl =\n",
              "          document.querySelector('#df-ee8abf5b-cb11-4e07-a88a-ae35f3846b17 button.colab-df-convert');\n",
              "        buttonEl.style.display =\n",
              "          google.colab.kernel.accessAllowed ? 'block' : 'none';\n",
              "\n",
              "        async function convertToInteractive(key) {\n",
              "          const element = document.querySelector('#df-ee8abf5b-cb11-4e07-a88a-ae35f3846b17');\n",
              "          const dataTable =\n",
              "            await google.colab.kernel.invokeFunction('convertToInteractive',\n",
              "                                                     [key], {});\n",
              "          if (!dataTable) return;\n",
              "\n",
              "          const docLinkHtml = 'Like what you see? Visit the ' +\n",
              "            '<a target=\"_blank\" href=https://colab.research.google.com/notebooks/data_table.ipynb>data table notebook</a>'\n",
              "            + ' to learn more about interactive tables.';\n",
              "          element.innerHTML = '';\n",
              "          dataTable['output_type'] = 'display_data';\n",
              "          await google.colab.output.renderOutput(dataTable, element);\n",
              "          const docLink = document.createElement('div');\n",
              "          docLink.innerHTML = docLinkHtml;\n",
              "          element.appendChild(docLink);\n",
              "        }\n",
              "      </script>\n",
              "    </div>\n",
              "  </div>\n",
              "  "
            ],
            "text/plain": [
              "                  timestamp                                hostname  \\\n",
              "0  2018-11-08T07:41:55.921Z  0d56a730076643d585f77e00d2d8521a00000N   \n",
              "1  2018-11-08T07:42:29.842Z  0d56a730076643d585f77e00d2d8521a00000N   \n",
              "2  2018-11-08T07:42:29.845Z  0d56a730076643d585f77e00d2d8521a00000N   \n",
              "3  2018-11-08T07:42:29.845Z  0d56a730076643d585f77e00d2d8521a00000N   \n",
              "4  2018-11-08T07:43:13.957Z  0d56a730076643d585f77e00d2d8521a00000N   \n",
              "\n",
              "       eventName eventType                                            jobId  \\\n",
              "0         Tiling      STOP  1024-lvl12-7e026be3-5fd0-48ee-b7d1-abd61f747705   \n",
              "1  Saving Config     START  1024-lvl12-7e026be3-5fd0-48ee-b7d1-abd61f747705   \n",
              "2  Saving Config      STOP  1024-lvl12-7e026be3-5fd0-48ee-b7d1-abd61f747705   \n",
              "3         Render     START  1024-lvl12-7e026be3-5fd0-48ee-b7d1-abd61f747705   \n",
              "4    TotalRender      STOP  1024-lvl12-7e026be3-5fd0-48ee-b7d1-abd61f747705   \n",
              "\n",
              "                                 taskId  \n",
              "0  b47f0263-ba1c-48a7-8d29-4bf021b72043  \n",
              "1  20fb9fcf-a927-4a4b-a64c-70258b66b42d  \n",
              "2  20fb9fcf-a927-4a4b-a64c-70258b66b42d  \n",
              "3  20fb9fcf-a927-4a4b-a64c-70258b66b42d  \n",
              "4  20fb9fcf-a927-4a4b-a64c-70258b66b42d  "
            ]
          },
          "metadata": {},
          "output_type": "display_data"
        }
      ],
      "source": [
        "application_file.head()"
      ]
    },
    {
      "cell_type": "code",
      "execution_count": null,
      "metadata": {},
      "outputs": [
        {
          "data": {
            "text/html": [
              "\n",
              "  <div id=\"df-fb3da5ef-6498-43d0-b7af-0206253dc27a\">\n",
              "    <div class=\"colab-df-container\">\n",
              "      <div>\n",
              "<style scoped>\n",
              "    .dataframe tbody tr th:only-of-type {\n",
              "        vertical-align: middle;\n",
              "    }\n",
              "\n",
              "    .dataframe tbody tr th {\n",
              "        vertical-align: top;\n",
              "    }\n",
              "\n",
              "    .dataframe thead th {\n",
              "        text-align: right;\n",
              "    }\n",
              "</style>\n",
              "<table border=\"1\" class=\"dataframe\">\n",
              "  <thead>\n",
              "    <tr style=\"text-align: right;\">\n",
              "      <th></th>\n",
              "      <th>timestamp</th>\n",
              "      <th>hostname</th>\n",
              "      <th>gpuSerial</th>\n",
              "      <th>gpuUUID</th>\n",
              "      <th>powerDrawWatt</th>\n",
              "      <th>gpuTempC</th>\n",
              "      <th>gpuUtilPerc</th>\n",
              "      <th>gpuMemUtilPerc</th>\n",
              "    </tr>\n",
              "  </thead>\n",
              "  <tbody>\n",
              "    <tr>\n",
              "      <th>0</th>\n",
              "      <td>2018-11-08T08:27:10.314Z</td>\n",
              "      <td>8b6a0eebc87b4cb2b0539e81075191b900001C</td>\n",
              "      <td>323217055910</td>\n",
              "      <td>GPU-1d1602dc-f615-a7c7-ab53-fb4a7a479534</td>\n",
              "      <td>131.55</td>\n",
              "      <td>48</td>\n",
              "      <td>92</td>\n",
              "      <td>53</td>\n",
              "    </tr>\n",
              "    <tr>\n",
              "      <th>1</th>\n",
              "      <td>2018-11-08T08:27:10.192Z</td>\n",
              "      <td>d8241877cd994572b46c861e5d144c85000000</td>\n",
              "      <td>323617020295</td>\n",
              "      <td>GPU-04a2dea7-f4f1-12d0-b94d-996446746e6f</td>\n",
              "      <td>117.03</td>\n",
              "      <td>40</td>\n",
              "      <td>92</td>\n",
              "      <td>48</td>\n",
              "    </tr>\n",
              "    <tr>\n",
              "      <th>2</th>\n",
              "      <td>2018-11-08T08:27:10.842Z</td>\n",
              "      <td>db871cd77a544e13bc791a64a0c8ed50000006</td>\n",
              "      <td>323217056562</td>\n",
              "      <td>GPU-f4597939-a0b4-e78a-2436-12dbab9a350f</td>\n",
              "      <td>121.64</td>\n",
              "      <td>45</td>\n",
              "      <td>91</td>\n",
              "      <td>44</td>\n",
              "    </tr>\n",
              "    <tr>\n",
              "      <th>3</th>\n",
              "      <td>2018-11-08T08:27:10.424Z</td>\n",
              "      <td>b9a1fa7ae2f74eb68f25f607980f97d7000010</td>\n",
              "      <td>325217085931</td>\n",
              "      <td>GPU-ad773c69-c386-a4be-b214-1ea4fc6045df</td>\n",
              "      <td>50.23</td>\n",
              "      <td>38</td>\n",
              "      <td>90</td>\n",
              "      <td>43</td>\n",
              "    </tr>\n",
              "    <tr>\n",
              "      <th>4</th>\n",
              "      <td>2018-11-08T08:27:10.937Z</td>\n",
              "      <td>db871cd77a544e13bc791a64a0c8ed50000003</td>\n",
              "      <td>323217056464</td>\n",
              "      <td>GPU-2d4eed64-4ca8-f12c-24bc-28f036493ea2</td>\n",
              "      <td>141.82</td>\n",
              "      <td>41</td>\n",
              "      <td>90</td>\n",
              "      <td>47</td>\n",
              "    </tr>\n",
              "  </tbody>\n",
              "</table>\n",
              "</div>\n",
              "      <button class=\"colab-df-convert\" onclick=\"convertToInteractive('df-fb3da5ef-6498-43d0-b7af-0206253dc27a')\"\n",
              "              title=\"Convert this dataframe to an interactive table.\"\n",
              "              style=\"display:none;\">\n",
              "        \n",
              "  <svg xmlns=\"http://www.w3.org/2000/svg\" height=\"24px\"viewBox=\"0 0 24 24\"\n",
              "       width=\"24px\">\n",
              "    <path d=\"M0 0h24v24H0V0z\" fill=\"none\"/>\n",
              "    <path d=\"M18.56 5.44l.94 2.06.94-2.06 2.06-.94-2.06-.94-.94-2.06-.94 2.06-2.06.94zm-11 1L8.5 8.5l.94-2.06 2.06-.94-2.06-.94L8.5 2.5l-.94 2.06-2.06.94zm10 10l.94 2.06.94-2.06 2.06-.94-2.06-.94-.94-2.06-.94 2.06-2.06.94z\"/><path d=\"M17.41 7.96l-1.37-1.37c-.4-.4-.92-.59-1.43-.59-.52 0-1.04.2-1.43.59L10.3 9.45l-7.72 7.72c-.78.78-.78 2.05 0 2.83L4 21.41c.39.39.9.59 1.41.59.51 0 1.02-.2 1.41-.59l7.78-7.78 2.81-2.81c.8-.78.8-2.07 0-2.86zM5.41 20L4 18.59l7.72-7.72 1.47 1.35L5.41 20z\"/>\n",
              "  </svg>\n",
              "      </button>\n",
              "      \n",
              "  <style>\n",
              "    .colab-df-container {\n",
              "      display:flex;\n",
              "      flex-wrap:wrap;\n",
              "      gap: 12px;\n",
              "    }\n",
              "\n",
              "    .colab-df-convert {\n",
              "      background-color: #E8F0FE;\n",
              "      border: none;\n",
              "      border-radius: 50%;\n",
              "      cursor: pointer;\n",
              "      display: none;\n",
              "      fill: #1967D2;\n",
              "      height: 32px;\n",
              "      padding: 0 0 0 0;\n",
              "      width: 32px;\n",
              "    }\n",
              "\n",
              "    .colab-df-convert:hover {\n",
              "      background-color: #E2EBFA;\n",
              "      box-shadow: 0px 1px 2px rgba(60, 64, 67, 0.3), 0px 1px 3px 1px rgba(60, 64, 67, 0.15);\n",
              "      fill: #174EA6;\n",
              "    }\n",
              "\n",
              "    [theme=dark] .colab-df-convert {\n",
              "      background-color: #3B4455;\n",
              "      fill: #D2E3FC;\n",
              "    }\n",
              "\n",
              "    [theme=dark] .colab-df-convert:hover {\n",
              "      background-color: #434B5C;\n",
              "      box-shadow: 0px 1px 3px 1px rgba(0, 0, 0, 0.15);\n",
              "      filter: drop-shadow(0px 1px 2px rgba(0, 0, 0, 0.3));\n",
              "      fill: #FFFFFF;\n",
              "    }\n",
              "  </style>\n",
              "\n",
              "      <script>\n",
              "        const buttonEl =\n",
              "          document.querySelector('#df-fb3da5ef-6498-43d0-b7af-0206253dc27a button.colab-df-convert');\n",
              "        buttonEl.style.display =\n",
              "          google.colab.kernel.accessAllowed ? 'block' : 'none';\n",
              "\n",
              "        async function convertToInteractive(key) {\n",
              "          const element = document.querySelector('#df-fb3da5ef-6498-43d0-b7af-0206253dc27a');\n",
              "          const dataTable =\n",
              "            await google.colab.kernel.invokeFunction('convertToInteractive',\n",
              "                                                     [key], {});\n",
              "          if (!dataTable) return;\n",
              "\n",
              "          const docLinkHtml = 'Like what you see? Visit the ' +\n",
              "            '<a target=\"_blank\" href=https://colab.research.google.com/notebooks/data_table.ipynb>data table notebook</a>'\n",
              "            + ' to learn more about interactive tables.';\n",
              "          element.innerHTML = '';\n",
              "          dataTable['output_type'] = 'display_data';\n",
              "          await google.colab.output.renderOutput(dataTable, element);\n",
              "          const docLink = document.createElement('div');\n",
              "          docLink.innerHTML = docLinkHtml;\n",
              "          element.appendChild(docLink);\n",
              "        }\n",
              "      </script>\n",
              "    </div>\n",
              "  </div>\n",
              "  "
            ],
            "text/plain": [
              "                  timestamp                                hostname  \\\n",
              "0  2018-11-08T08:27:10.314Z  8b6a0eebc87b4cb2b0539e81075191b900001C   \n",
              "1  2018-11-08T08:27:10.192Z  d8241877cd994572b46c861e5d144c85000000   \n",
              "2  2018-11-08T08:27:10.842Z  db871cd77a544e13bc791a64a0c8ed50000006   \n",
              "3  2018-11-08T08:27:10.424Z  b9a1fa7ae2f74eb68f25f607980f97d7000010   \n",
              "4  2018-11-08T08:27:10.937Z  db871cd77a544e13bc791a64a0c8ed50000003   \n",
              "\n",
              "      gpuSerial                                   gpuUUID  powerDrawWatt  \\\n",
              "0  323217055910  GPU-1d1602dc-f615-a7c7-ab53-fb4a7a479534         131.55   \n",
              "1  323617020295  GPU-04a2dea7-f4f1-12d0-b94d-996446746e6f         117.03   \n",
              "2  323217056562  GPU-f4597939-a0b4-e78a-2436-12dbab9a350f         121.64   \n",
              "3  325217085931  GPU-ad773c69-c386-a4be-b214-1ea4fc6045df          50.23   \n",
              "4  323217056464  GPU-2d4eed64-4ca8-f12c-24bc-28f036493ea2         141.82   \n",
              "\n",
              "   gpuTempC  gpuUtilPerc  gpuMemUtilPerc  \n",
              "0        48           92              53  \n",
              "1        40           92              48  \n",
              "2        45           91              44  \n",
              "3        38           90              43  \n",
              "4        41           90              47  "
            ]
          },
          "metadata": {},
          "output_type": "display_data"
        }
      ],
      "source": [
        "gpu_file.head()"
      ]
    },
    {
      "cell_type": "code",
      "execution_count": null,
      "metadata": {},
      "outputs": [
        {
          "data": {
            "text/html": [
              "\n",
              "  <div id=\"df-77575b6a-9a84-49d7-b014-70a6c3366b66\">\n",
              "    <div class=\"colab-df-container\">\n",
              "      <div>\n",
              "<style scoped>\n",
              "    .dataframe tbody tr th:only-of-type {\n",
              "        vertical-align: middle;\n",
              "    }\n",
              "\n",
              "    .dataframe tbody tr th {\n",
              "        vertical-align: top;\n",
              "    }\n",
              "\n",
              "    .dataframe thead th {\n",
              "        text-align: right;\n",
              "    }\n",
              "</style>\n",
              "<table border=\"1\" class=\"dataframe\">\n",
              "  <thead>\n",
              "    <tr style=\"text-align: right;\">\n",
              "      <th></th>\n",
              "      <th>taskId</th>\n",
              "      <th>jobId</th>\n",
              "      <th>x</th>\n",
              "      <th>y</th>\n",
              "      <th>level</th>\n",
              "    </tr>\n",
              "  </thead>\n",
              "  <tbody>\n",
              "    <tr>\n",
              "      <th>0</th>\n",
              "      <td>00004e77-304c-4fbd-88a1-1346ef947567</td>\n",
              "      <td>1024-lvl12-7e026be3-5fd0-48ee-b7d1-abd61f747705</td>\n",
              "      <td>116</td>\n",
              "      <td>178</td>\n",
              "      <td>12</td>\n",
              "    </tr>\n",
              "    <tr>\n",
              "      <th>1</th>\n",
              "      <td>0002afb5-d05e-4da9-bd53-7b6dc19ea6d4</td>\n",
              "      <td>1024-lvl12-7e026be3-5fd0-48ee-b7d1-abd61f747705</td>\n",
              "      <td>142</td>\n",
              "      <td>190</td>\n",
              "      <td>12</td>\n",
              "    </tr>\n",
              "    <tr>\n",
              "      <th>2</th>\n",
              "      <td>0003c380-4db9-49fb-8e1c-6f8ae466ad85</td>\n",
              "      <td>1024-lvl12-7e026be3-5fd0-48ee-b7d1-abd61f747705</td>\n",
              "      <td>142</td>\n",
              "      <td>86</td>\n",
              "      <td>12</td>\n",
              "    </tr>\n",
              "    <tr>\n",
              "      <th>3</th>\n",
              "      <td>000993b6-fc88-489d-a4ca-0a44fd800bd3</td>\n",
              "      <td>1024-lvl12-7e026be3-5fd0-48ee-b7d1-abd61f747705</td>\n",
              "      <td>235</td>\n",
              "      <td>11</td>\n",
              "      <td>12</td>\n",
              "    </tr>\n",
              "    <tr>\n",
              "      <th>4</th>\n",
              "      <td>000b158b-0ba3-4dca-bf5b-1b3bd5c28207</td>\n",
              "      <td>1024-lvl12-7e026be3-5fd0-48ee-b7d1-abd61f747705</td>\n",
              "      <td>171</td>\n",
              "      <td>53</td>\n",
              "      <td>12</td>\n",
              "    </tr>\n",
              "  </tbody>\n",
              "</table>\n",
              "</div>\n",
              "      <button class=\"colab-df-convert\" onclick=\"convertToInteractive('df-77575b6a-9a84-49d7-b014-70a6c3366b66')\"\n",
              "              title=\"Convert this dataframe to an interactive table.\"\n",
              "              style=\"display:none;\">\n",
              "        \n",
              "  <svg xmlns=\"http://www.w3.org/2000/svg\" height=\"24px\"viewBox=\"0 0 24 24\"\n",
              "       width=\"24px\">\n",
              "    <path d=\"M0 0h24v24H0V0z\" fill=\"none\"/>\n",
              "    <path d=\"M18.56 5.44l.94 2.06.94-2.06 2.06-.94-2.06-.94-.94-2.06-.94 2.06-2.06.94zm-11 1L8.5 8.5l.94-2.06 2.06-.94-2.06-.94L8.5 2.5l-.94 2.06-2.06.94zm10 10l.94 2.06.94-2.06 2.06-.94-2.06-.94-.94-2.06-.94 2.06-2.06.94z\"/><path d=\"M17.41 7.96l-1.37-1.37c-.4-.4-.92-.59-1.43-.59-.52 0-1.04.2-1.43.59L10.3 9.45l-7.72 7.72c-.78.78-.78 2.05 0 2.83L4 21.41c.39.39.9.59 1.41.59.51 0 1.02-.2 1.41-.59l7.78-7.78 2.81-2.81c.8-.78.8-2.07 0-2.86zM5.41 20L4 18.59l7.72-7.72 1.47 1.35L5.41 20z\"/>\n",
              "  </svg>\n",
              "      </button>\n",
              "      \n",
              "  <style>\n",
              "    .colab-df-container {\n",
              "      display:flex;\n",
              "      flex-wrap:wrap;\n",
              "      gap: 12px;\n",
              "    }\n",
              "\n",
              "    .colab-df-convert {\n",
              "      background-color: #E8F0FE;\n",
              "      border: none;\n",
              "      border-radius: 50%;\n",
              "      cursor: pointer;\n",
              "      display: none;\n",
              "      fill: #1967D2;\n",
              "      height: 32px;\n",
              "      padding: 0 0 0 0;\n",
              "      width: 32px;\n",
              "    }\n",
              "\n",
              "    .colab-df-convert:hover {\n",
              "      background-color: #E2EBFA;\n",
              "      box-shadow: 0px 1px 2px rgba(60, 64, 67, 0.3), 0px 1px 3px 1px rgba(60, 64, 67, 0.15);\n",
              "      fill: #174EA6;\n",
              "    }\n",
              "\n",
              "    [theme=dark] .colab-df-convert {\n",
              "      background-color: #3B4455;\n",
              "      fill: #D2E3FC;\n",
              "    }\n",
              "\n",
              "    [theme=dark] .colab-df-convert:hover {\n",
              "      background-color: #434B5C;\n",
              "      box-shadow: 0px 1px 3px 1px rgba(0, 0, 0, 0.15);\n",
              "      filter: drop-shadow(0px 1px 2px rgba(0, 0, 0, 0.3));\n",
              "      fill: #FFFFFF;\n",
              "    }\n",
              "  </style>\n",
              "\n",
              "      <script>\n",
              "        const buttonEl =\n",
              "          document.querySelector('#df-77575b6a-9a84-49d7-b014-70a6c3366b66 button.colab-df-convert');\n",
              "        buttonEl.style.display =\n",
              "          google.colab.kernel.accessAllowed ? 'block' : 'none';\n",
              "\n",
              "        async function convertToInteractive(key) {\n",
              "          const element = document.querySelector('#df-77575b6a-9a84-49d7-b014-70a6c3366b66');\n",
              "          const dataTable =\n",
              "            await google.colab.kernel.invokeFunction('convertToInteractive',\n",
              "                                                     [key], {});\n",
              "          if (!dataTable) return;\n",
              "\n",
              "          const docLinkHtml = 'Like what you see? Visit the ' +\n",
              "            '<a target=\"_blank\" href=https://colab.research.google.com/notebooks/data_table.ipynb>data table notebook</a>'\n",
              "            + ' to learn more about interactive tables.';\n",
              "          element.innerHTML = '';\n",
              "          dataTable['output_type'] = 'display_data';\n",
              "          await google.colab.output.renderOutput(dataTable, element);\n",
              "          const docLink = document.createElement('div');\n",
              "          docLink.innerHTML = docLinkHtml;\n",
              "          element.appendChild(docLink);\n",
              "        }\n",
              "      </script>\n",
              "    </div>\n",
              "  </div>\n",
              "  "
            ],
            "text/plain": [
              "                                 taskId  \\\n",
              "0  00004e77-304c-4fbd-88a1-1346ef947567   \n",
              "1  0002afb5-d05e-4da9-bd53-7b6dc19ea6d4   \n",
              "2  0003c380-4db9-49fb-8e1c-6f8ae466ad85   \n",
              "3  000993b6-fc88-489d-a4ca-0a44fd800bd3   \n",
              "4  000b158b-0ba3-4dca-bf5b-1b3bd5c28207   \n",
              "\n",
              "                                             jobId    x    y  level  \n",
              "0  1024-lvl12-7e026be3-5fd0-48ee-b7d1-abd61f747705  116  178     12  \n",
              "1  1024-lvl12-7e026be3-5fd0-48ee-b7d1-abd61f747705  142  190     12  \n",
              "2  1024-lvl12-7e026be3-5fd0-48ee-b7d1-abd61f747705  142   86     12  \n",
              "3  1024-lvl12-7e026be3-5fd0-48ee-b7d1-abd61f747705  235   11     12  \n",
              "4  1024-lvl12-7e026be3-5fd0-48ee-b7d1-abd61f747705  171   53     12  "
            ]
          },
          "metadata": {},
          "output_type": "display_data"
        }
      ],
      "source": [
        "task_xy.head()"
      ]
    },
    {
      "cell_type": "code",
      "execution_count": null,
      "metadata": {},
      "outputs": [
        {
          "data": {
            "text/plain": [
              "(660400, 6)"
            ]
          },
          "metadata": {},
          "output_type": "display_data"
        }
      ],
      "source": [
        "application_file.shape"
      ]
    },
    {
      "cell_type": "code",
      "execution_count": null,
      "metadata": {},
      "outputs": [
        {
          "data": {
            "text/plain": [
              "(1543681, 8)"
            ]
          },
          "metadata": {},
          "output_type": "display_data"
        }
      ],
      "source": [
        "gpu_file.shape"
      ]
    },
    {
      "cell_type": "code",
      "execution_count": null,
      "metadata": {},
      "outputs": [
        {
          "data": {
            "text/plain": [
              "(65793, 5)"
            ]
          },
          "metadata": {},
          "output_type": "display_data"
        }
      ],
      "source": [
        "task_xy.shape"
      ]
    },
    {
      "cell_type": "code",
      "execution_count": null,
      "metadata": {},
      "outputs": [
        {
          "name": "stdout",
          "output_type": "stream",
          "text": [
            "<class 'pandas.core.frame.DataFrame'>\n",
            "RangeIndex: 660400 entries, 0 to 660399\n",
            "Data columns (total 6 columns):\n",
            " #   Column     Non-Null Count   Dtype \n",
            "---  ------     --------------   ----- \n",
            " 0   timestamp  660400 non-null  object\n",
            " 1   hostname   660400 non-null  object\n",
            " 2   eventName  660400 non-null  object\n",
            " 3   eventType  660400 non-null  object\n",
            " 4   jobId      660400 non-null  object\n",
            " 5   taskId     660400 non-null  object\n",
            "dtypes: object(6)\n",
            "memory usage: 30.2+ MB\n"
          ]
        }
      ],
      "source": [
        "application_file.info()"
      ]
    },
    {
      "cell_type": "code",
      "execution_count": null,
      "metadata": {},
      "outputs": [
        {
          "name": "stdout",
          "output_type": "stream",
          "text": [
            "<class 'pandas.core.frame.DataFrame'>\n",
            "RangeIndex: 1543681 entries, 0 to 1543680\n",
            "Data columns (total 8 columns):\n",
            " #   Column          Non-Null Count    Dtype  \n",
            "---  ------          --------------    -----  \n",
            " 0   timestamp       1543681 non-null  object \n",
            " 1   hostname        1543681 non-null  object \n",
            " 2   gpuSerial       1543681 non-null  int64  \n",
            " 3   gpuUUID         1543681 non-null  object \n",
            " 4   powerDrawWatt   1543681 non-null  float64\n",
            " 5   gpuTempC        1543681 non-null  int64  \n",
            " 6   gpuUtilPerc     1543681 non-null  int64  \n",
            " 7   gpuMemUtilPerc  1543681 non-null  int64  \n",
            "dtypes: float64(1), int64(4), object(3)\n",
            "memory usage: 94.2+ MB\n"
          ]
        }
      ],
      "source": [
        "gpu_file.info()"
      ]
    },
    {
      "cell_type": "code",
      "execution_count": null,
      "metadata": {},
      "outputs": [
        {
          "name": "stdout",
          "output_type": "stream",
          "text": [
            "<class 'pandas.core.frame.DataFrame'>\n",
            "RangeIndex: 65793 entries, 0 to 65792\n",
            "Data columns (total 5 columns):\n",
            " #   Column  Non-Null Count  Dtype \n",
            "---  ------  --------------  ----- \n",
            " 0   taskId  65793 non-null  object\n",
            " 1   jobId   65793 non-null  object\n",
            " 2   x       65793 non-null  int64 \n",
            " 3   y       65793 non-null  int64 \n",
            " 4   level   65793 non-null  int64 \n",
            "dtypes: int64(3), object(2)\n",
            "memory usage: 2.5+ MB\n"
          ]
        }
      ],
      "source": [
        "task_xy.info()"
      ]
    }
  ],
  "metadata": {
    "accelerator": "TPU",
    "colab": {
      "provenance": []
    },
    "kernelspec": {
      "display_name": "Python 3",
      "name": "python3"
    },
    "language_info": {
      "name": "python"
    }
  },
  "nbformat": 4,
  "nbformat_minor": 0
}
